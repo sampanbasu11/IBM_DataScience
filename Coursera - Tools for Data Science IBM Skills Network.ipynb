{
 "cells": [
  {
   "cell_type": "markdown",
   "id": "86caf816",
   "metadata": {},
   "source": [
    "# Data Science Tools and Ecosystem"
   ]
  },
  {
   "cell_type": "markdown",
   "id": "36145b0f",
   "metadata": {},
   "source": [
    "## Author\n",
    "Sanket Mehrotra"
   ]
  },
  {
   "cell_type": "markdown",
   "id": "cf47831e",
   "metadata": {},
   "source": [
    "## Introduction\n",
    "This is the introduction to the jupyter notebook. In this notebook, Data Science Tools and Ecosystem are summarized."
   ]
  },
  {
   "cell_type": "markdown",
   "id": "9ea01b0d",
   "metadata": {},
   "source": [
    "**Objectives:**\n",
    "* List some popular languages used for data science\n",
    "* List commonly used libraries for data science\n",
    "* Explore Markdown table formatting\n",
    "* Experiment with executing arithmatic operations using python syntax\n",
    "* Try simple conversions with python syntax"
   ]
  },
  {
   "cell_type": "markdown",
   "id": "e9236add",
   "metadata": {},
   "source": [
    "Some of the popular languages that Data Scientists use are:\n",
    "1. R\n",
    "2. Python\n",
    "3. SQL"
   ]
  },
  {
   "cell_type": "markdown",
   "id": "e07d78b1",
   "metadata": {},
   "source": [
    "Some of the commonly used libraries used by Data Scientists include:\n",
    "1. pandas\n",
    "2. matplotlib\n",
    "3. seaborn\n",
    "4. numpy\n",
    "5. scipy\n",
    "6. sklearn"
   ]
  },
  {
   "cell_type": "markdown",
   "id": "305f560b",
   "metadata": {},
   "source": [
    "| Data Science Tools | \n",
    "| ----------- | \n",
    "| RStudio     |\n",
    "| Anaconda    | \n",
    "| Jupyter Notebooks|\n",
    "| Tableau Desktop |"
   ]
  },
  {
   "cell_type": "markdown",
   "id": "3dfce323",
   "metadata": {},
   "source": [
    "### Below are a few examples of evaluating arithmetic expressions in Python"
   ]
  },
  {
   "cell_type": "code",
   "execution_count": 1,
   "id": "4e62fe17",
   "metadata": {},
   "outputs": [
    {
     "data": {
      "text/plain": [
       "17"
      ]
     },
     "execution_count": 1,
     "metadata": {},
     "output_type": "execute_result"
    }
   ],
   "source": [
    "# This a simple arithmetic expression to mutiply then add integers\n",
    "(3*4)+5"
   ]
  },
  {
   "cell_type": "code",
   "execution_count": 4,
   "id": "84e1de81",
   "metadata": {},
   "outputs": [
    {
     "name": "stdout",
     "output_type": "stream",
     "text": [
      "Minutes: 200\n",
      "Hours: 3.3333333333333335\n"
     ]
    }
   ],
   "source": [
    "#This will convert 200 minutes to hours by diving by 60\n",
    "mins = 200\n",
    "print(f'Minutes: {mins}')\n",
    "hours = mins / 60\n",
    "print(f'Hours: {hours}')"
   ]
  },
  {
   "cell_type": "code",
   "execution_count": null,
   "id": "a0213bf8",
   "metadata": {},
   "outputs": [],
   "source": []
  }
 ],
 "metadata": {
  "kernelspec": {
   "display_name": "Python 3",
   "language": "python",
   "name": "python3"
  },
  "language_info": {
   "codemirror_mode": {
    "name": "ipython",
    "version": 3
   },
   "file_extension": ".py",
   "mimetype": "text/x-python",
   "name": "python",
   "nbconvert_exporter": "python",
   "pygments_lexer": "ipython3",
   "version": "3.8.8"
  }
 },
 "nbformat": 4,
 "nbformat_minor": 5
}
